{
  "nbformat": 4,
  "nbformat_minor": 0,
  "metadata": {
    "colab": {
      "provenance": [],
      "authorship_tag": "ABX9TyM2tmvHLByc5Fc6QZPQlgA1",
      "include_colab_link": true
    },
    "kernelspec": {
      "name": "python3",
      "display_name": "Python 3"
    },
    "language_info": {
      "name": "python"
    }
  },
  "cells": [
    {
      "cell_type": "markdown",
      "metadata": {
        "id": "view-in-github",
        "colab_type": "text"
      },
      "source": [
        "<a href=\"https://colab.research.google.com/github/VarelAntoni/machine_learning_project/blob/main/plane_price_prediction/plane_price_prediction.ipynb\" target=\"_parent\"><img src=\"https://colab.research.google.com/assets/colab-badge.svg\" alt=\"Open In Colab\"/></a>"
      ]
    },
    {
      "cell_type": "code",
      "execution_count": 175,
      "metadata": {
        "id": "6rCwp9-dq-bI"
      },
      "outputs": [],
      "source": [
        "#Import libraries\n",
        "import numpy as np\n",
        "import pandas as pd\n",
        "import math\n",
        "import random\n",
        "import seaborn as sns\n",
        "import matplotlib.pyplot as plt\n",
        "from sklearn.preprocessing import StandardScaler\n",
        "from sklearn.model_selection import train_test_split\n",
        "from sklearn.linear_model import LinearRegression, Ridge, Lasso\n",
        "from sklearn.tree import DecisionTreeRegressor\n",
        "from sklearn.ensemble import RandomForestRegressor, GradientBoostingRegressor\n",
        "from sklearn.metrics import mean_squared_error, r2_score\n",
        "import os\n"
      ]
    },
    {
      "cell_type": "code",
      "source": [
        "import kagglehub\n",
        "\n",
        "# Download latest version\n",
        "path = kagglehub.dataset_download(\"rafsunahmad/plane-price-prediction\")\n",
        "\n",
        "print(\"Path to dataset files:\", path)"
      ],
      "metadata": {
        "colab": {
          "base_uri": "https://localhost:8080/"
        },
        "id": "ixbw3dG0oTak",
        "outputId": "60365e2c-d299-449f-8052-1128f9b5e979"
      },
      "execution_count": 176,
      "outputs": [
        {
          "output_type": "stream",
          "name": "stdout",
          "text": [
            "Path to dataset files: /root/.cache/kagglehub/datasets/rafsunahmad/plane-price-prediction/versions/1\n"
          ]
        }
      ]
    },
    {
      "cell_type": "code",
      "source": [
        "print(os.listdir(path))"
      ],
      "metadata": {
        "colab": {
          "base_uri": "https://localhost:8080/"
        },
        "id": "psAWB-aXx9sf",
        "outputId": "12e308dc-543a-437f-a6b9-885e1a6e30bf"
      },
      "execution_count": 177,
      "outputs": [
        {
          "output_type": "stream",
          "name": "stdout",
          "text": [
            "['Plane Price.csv']\n"
          ]
        }
      ]
    },
    {
      "cell_type": "code",
      "source": [
        "df = pd.read_csv(os.path.join(path, 'Plane Price.csv'))"
      ],
      "metadata": {
        "id": "YB5RD4kRuaPd"
      },
      "execution_count": 178,
      "outputs": []
    },
    {
      "cell_type": "code",
      "source": [
        "df.head()"
      ],
      "metadata": {
        "colab": {
          "base_uri": "https://localhost:8080/",
          "height": 486
        },
        "id": "4rDbAGjWunND",
        "outputId": "7407d6c0-4c11-442a-d975-39a7f1ac8991"
      },
      "execution_count": 179,
      "outputs": [
        {
          "output_type": "execute_result",
          "data": {
            "text/plain": [
              "                     Model Name Engine Type HP or lbs thr ea engine  \\\n",
              "0  100 Darter (S.L. Industries)      Piston                     145   \n",
              "1                   7 CCM Champ      Piston                      85   \n",
              "2  100 Darter (S.L. Industries)      Piston                      90   \n",
              "3                    7 AC Champ      Piston                      85   \n",
              "4  100 Darter (S.L. Industries)      Piston                      65   \n",
              "\n",
              "  Max speed Knots  Rcmnd cruise Knots  Stall Knots dirty  Fuel gal/lbs  \\\n",
              "0             104                91.0               46.0            36   \n",
              "1              89                83.0               44.0            15   \n",
              "2              90                78.0               37.0            19   \n",
              "3              88                78.0               37.0            19   \n",
              "4              83                74.0               33.0            14   \n",
              "\n",
              "  All eng rate of climb  Eng out rate of climb  Takeoff over 50ft  \\\n",
              "0                   450                  900.0             1300.0   \n",
              "1                   600                  720.0              800.0   \n",
              "2                   650                  475.0              850.0   \n",
              "3                   620                  500.0              850.0   \n",
              "4                   370                  632.0              885.0   \n",
              "\n",
              "  Landing over 50ft Empty weight lbs Length ft/in Wing span ft/in Range N.M.  \\\n",
              "0             2,050            1,180         25/3            37/5        370   \n",
              "1             1,350              820         20/7            36/1        190   \n",
              "2             1,300              810         21/5            35/0        210   \n",
              "3             1,300              800         21/5            35/0        210   \n",
              "4             1,220              740         21/5            35/0        175   \n",
              "\n",
              "       Price  \n",
              "0  1300000.0  \n",
              "1  1230000.0  \n",
              "2  1600000.0  \n",
              "3  1300000.0  \n",
              "4  1250000.0  "
            ],
            "text/html": [
              "\n",
              "  <div id=\"df-a476da63-7360-40a3-b215-9b273f7bb3dd\" class=\"colab-df-container\">\n",
              "    <div>\n",
              "<style scoped>\n",
              "    .dataframe tbody tr th:only-of-type {\n",
              "        vertical-align: middle;\n",
              "    }\n",
              "\n",
              "    .dataframe tbody tr th {\n",
              "        vertical-align: top;\n",
              "    }\n",
              "\n",
              "    .dataframe thead th {\n",
              "        text-align: right;\n",
              "    }\n",
              "</style>\n",
              "<table border=\"1\" class=\"dataframe\">\n",
              "  <thead>\n",
              "    <tr style=\"text-align: right;\">\n",
              "      <th></th>\n",
              "      <th>Model Name</th>\n",
              "      <th>Engine Type</th>\n",
              "      <th>HP or lbs thr ea engine</th>\n",
              "      <th>Max speed Knots</th>\n",
              "      <th>Rcmnd cruise Knots</th>\n",
              "      <th>Stall Knots dirty</th>\n",
              "      <th>Fuel gal/lbs</th>\n",
              "      <th>All eng rate of climb</th>\n",
              "      <th>Eng out rate of climb</th>\n",
              "      <th>Takeoff over 50ft</th>\n",
              "      <th>Landing over 50ft</th>\n",
              "      <th>Empty weight lbs</th>\n",
              "      <th>Length ft/in</th>\n",
              "      <th>Wing span ft/in</th>\n",
              "      <th>Range N.M.</th>\n",
              "      <th>Price</th>\n",
              "    </tr>\n",
              "  </thead>\n",
              "  <tbody>\n",
              "    <tr>\n",
              "      <th>0</th>\n",
              "      <td>100 Darter (S.L. Industries)</td>\n",
              "      <td>Piston</td>\n",
              "      <td>145</td>\n",
              "      <td>104</td>\n",
              "      <td>91.0</td>\n",
              "      <td>46.0</td>\n",
              "      <td>36</td>\n",
              "      <td>450</td>\n",
              "      <td>900.0</td>\n",
              "      <td>1300.0</td>\n",
              "      <td>2,050</td>\n",
              "      <td>1,180</td>\n",
              "      <td>25/3</td>\n",
              "      <td>37/5</td>\n",
              "      <td>370</td>\n",
              "      <td>1300000.0</td>\n",
              "    </tr>\n",
              "    <tr>\n",
              "      <th>1</th>\n",
              "      <td>7 CCM Champ</td>\n",
              "      <td>Piston</td>\n",
              "      <td>85</td>\n",
              "      <td>89</td>\n",
              "      <td>83.0</td>\n",
              "      <td>44.0</td>\n",
              "      <td>15</td>\n",
              "      <td>600</td>\n",
              "      <td>720.0</td>\n",
              "      <td>800.0</td>\n",
              "      <td>1,350</td>\n",
              "      <td>820</td>\n",
              "      <td>20/7</td>\n",
              "      <td>36/1</td>\n",
              "      <td>190</td>\n",
              "      <td>1230000.0</td>\n",
              "    </tr>\n",
              "    <tr>\n",
              "      <th>2</th>\n",
              "      <td>100 Darter (S.L. Industries)</td>\n",
              "      <td>Piston</td>\n",
              "      <td>90</td>\n",
              "      <td>90</td>\n",
              "      <td>78.0</td>\n",
              "      <td>37.0</td>\n",
              "      <td>19</td>\n",
              "      <td>650</td>\n",
              "      <td>475.0</td>\n",
              "      <td>850.0</td>\n",
              "      <td>1,300</td>\n",
              "      <td>810</td>\n",
              "      <td>21/5</td>\n",
              "      <td>35/0</td>\n",
              "      <td>210</td>\n",
              "      <td>1600000.0</td>\n",
              "    </tr>\n",
              "    <tr>\n",
              "      <th>3</th>\n",
              "      <td>7 AC Champ</td>\n",
              "      <td>Piston</td>\n",
              "      <td>85</td>\n",
              "      <td>88</td>\n",
              "      <td>78.0</td>\n",
              "      <td>37.0</td>\n",
              "      <td>19</td>\n",
              "      <td>620</td>\n",
              "      <td>500.0</td>\n",
              "      <td>850.0</td>\n",
              "      <td>1,300</td>\n",
              "      <td>800</td>\n",
              "      <td>21/5</td>\n",
              "      <td>35/0</td>\n",
              "      <td>210</td>\n",
              "      <td>1300000.0</td>\n",
              "    </tr>\n",
              "    <tr>\n",
              "      <th>4</th>\n",
              "      <td>100 Darter (S.L. Industries)</td>\n",
              "      <td>Piston</td>\n",
              "      <td>65</td>\n",
              "      <td>83</td>\n",
              "      <td>74.0</td>\n",
              "      <td>33.0</td>\n",
              "      <td>14</td>\n",
              "      <td>370</td>\n",
              "      <td>632.0</td>\n",
              "      <td>885.0</td>\n",
              "      <td>1,220</td>\n",
              "      <td>740</td>\n",
              "      <td>21/5</td>\n",
              "      <td>35/0</td>\n",
              "      <td>175</td>\n",
              "      <td>1250000.0</td>\n",
              "    </tr>\n",
              "  </tbody>\n",
              "</table>\n",
              "</div>\n",
              "    <div class=\"colab-df-buttons\">\n",
              "\n",
              "  <div class=\"colab-df-container\">\n",
              "    <button class=\"colab-df-convert\" onclick=\"convertToInteractive('df-a476da63-7360-40a3-b215-9b273f7bb3dd')\"\n",
              "            title=\"Convert this dataframe to an interactive table.\"\n",
              "            style=\"display:none;\">\n",
              "\n",
              "  <svg xmlns=\"http://www.w3.org/2000/svg\" height=\"24px\" viewBox=\"0 -960 960 960\">\n",
              "    <path d=\"M120-120v-720h720v720H120Zm60-500h600v-160H180v160Zm220 220h160v-160H400v160Zm0 220h160v-160H400v160ZM180-400h160v-160H180v160Zm440 0h160v-160H620v160ZM180-180h160v-160H180v160Zm440 0h160v-160H620v160Z\"/>\n",
              "  </svg>\n",
              "    </button>\n",
              "\n",
              "  <style>\n",
              "    .colab-df-container {\n",
              "      display:flex;\n",
              "      gap: 12px;\n",
              "    }\n",
              "\n",
              "    .colab-df-convert {\n",
              "      background-color: #E8F0FE;\n",
              "      border: none;\n",
              "      border-radius: 50%;\n",
              "      cursor: pointer;\n",
              "      display: none;\n",
              "      fill: #1967D2;\n",
              "      height: 32px;\n",
              "      padding: 0 0 0 0;\n",
              "      width: 32px;\n",
              "    }\n",
              "\n",
              "    .colab-df-convert:hover {\n",
              "      background-color: #E2EBFA;\n",
              "      box-shadow: 0px 1px 2px rgba(60, 64, 67, 0.3), 0px 1px 3px 1px rgba(60, 64, 67, 0.15);\n",
              "      fill: #174EA6;\n",
              "    }\n",
              "\n",
              "    .colab-df-buttons div {\n",
              "      margin-bottom: 4px;\n",
              "    }\n",
              "\n",
              "    [theme=dark] .colab-df-convert {\n",
              "      background-color: #3B4455;\n",
              "      fill: #D2E3FC;\n",
              "    }\n",
              "\n",
              "    [theme=dark] .colab-df-convert:hover {\n",
              "      background-color: #434B5C;\n",
              "      box-shadow: 0px 1px 3px 1px rgba(0, 0, 0, 0.15);\n",
              "      filter: drop-shadow(0px 1px 2px rgba(0, 0, 0, 0.3));\n",
              "      fill: #FFFFFF;\n",
              "    }\n",
              "  </style>\n",
              "\n",
              "    <script>\n",
              "      const buttonEl =\n",
              "        document.querySelector('#df-a476da63-7360-40a3-b215-9b273f7bb3dd button.colab-df-convert');\n",
              "      buttonEl.style.display =\n",
              "        google.colab.kernel.accessAllowed ? 'block' : 'none';\n",
              "\n",
              "      async function convertToInteractive(key) {\n",
              "        const element = document.querySelector('#df-a476da63-7360-40a3-b215-9b273f7bb3dd');\n",
              "        const dataTable =\n",
              "          await google.colab.kernel.invokeFunction('convertToInteractive',\n",
              "                                                    [key], {});\n",
              "        if (!dataTable) return;\n",
              "\n",
              "        const docLinkHtml = 'Like what you see? Visit the ' +\n",
              "          '<a target=\"_blank\" href=https://colab.research.google.com/notebooks/data_table.ipynb>data table notebook</a>'\n",
              "          + ' to learn more about interactive tables.';\n",
              "        element.innerHTML = '';\n",
              "        dataTable['output_type'] = 'display_data';\n",
              "        await google.colab.output.renderOutput(dataTable, element);\n",
              "        const docLink = document.createElement('div');\n",
              "        docLink.innerHTML = docLinkHtml;\n",
              "        element.appendChild(docLink);\n",
              "      }\n",
              "    </script>\n",
              "  </div>\n",
              "\n",
              "\n",
              "<div id=\"df-241e94ac-b7aa-43a1-b2b5-235e5628d89d\">\n",
              "  <button class=\"colab-df-quickchart\" onclick=\"quickchart('df-241e94ac-b7aa-43a1-b2b5-235e5628d89d')\"\n",
              "            title=\"Suggest charts\"\n",
              "            style=\"display:none;\">\n",
              "\n",
              "<svg xmlns=\"http://www.w3.org/2000/svg\" height=\"24px\"viewBox=\"0 0 24 24\"\n",
              "     width=\"24px\">\n",
              "    <g>\n",
              "        <path d=\"M19 3H5c-1.1 0-2 .9-2 2v14c0 1.1.9 2 2 2h14c1.1 0 2-.9 2-2V5c0-1.1-.9-2-2-2zM9 17H7v-7h2v7zm4 0h-2V7h2v10zm4 0h-2v-4h2v4z\"/>\n",
              "    </g>\n",
              "</svg>\n",
              "  </button>\n",
              "\n",
              "<style>\n",
              "  .colab-df-quickchart {\n",
              "      --bg-color: #E8F0FE;\n",
              "      --fill-color: #1967D2;\n",
              "      --hover-bg-color: #E2EBFA;\n",
              "      --hover-fill-color: #174EA6;\n",
              "      --disabled-fill-color: #AAA;\n",
              "      --disabled-bg-color: #DDD;\n",
              "  }\n",
              "\n",
              "  [theme=dark] .colab-df-quickchart {\n",
              "      --bg-color: #3B4455;\n",
              "      --fill-color: #D2E3FC;\n",
              "      --hover-bg-color: #434B5C;\n",
              "      --hover-fill-color: #FFFFFF;\n",
              "      --disabled-bg-color: #3B4455;\n",
              "      --disabled-fill-color: #666;\n",
              "  }\n",
              "\n",
              "  .colab-df-quickchart {\n",
              "    background-color: var(--bg-color);\n",
              "    border: none;\n",
              "    border-radius: 50%;\n",
              "    cursor: pointer;\n",
              "    display: none;\n",
              "    fill: var(--fill-color);\n",
              "    height: 32px;\n",
              "    padding: 0;\n",
              "    width: 32px;\n",
              "  }\n",
              "\n",
              "  .colab-df-quickchart:hover {\n",
              "    background-color: var(--hover-bg-color);\n",
              "    box-shadow: 0 1px 2px rgba(60, 64, 67, 0.3), 0 1px 3px 1px rgba(60, 64, 67, 0.15);\n",
              "    fill: var(--button-hover-fill-color);\n",
              "  }\n",
              "\n",
              "  .colab-df-quickchart-complete:disabled,\n",
              "  .colab-df-quickchart-complete:disabled:hover {\n",
              "    background-color: var(--disabled-bg-color);\n",
              "    fill: var(--disabled-fill-color);\n",
              "    box-shadow: none;\n",
              "  }\n",
              "\n",
              "  .colab-df-spinner {\n",
              "    border: 2px solid var(--fill-color);\n",
              "    border-color: transparent;\n",
              "    border-bottom-color: var(--fill-color);\n",
              "    animation:\n",
              "      spin 1s steps(1) infinite;\n",
              "  }\n",
              "\n",
              "  @keyframes spin {\n",
              "    0% {\n",
              "      border-color: transparent;\n",
              "      border-bottom-color: var(--fill-color);\n",
              "      border-left-color: var(--fill-color);\n",
              "    }\n",
              "    20% {\n",
              "      border-color: transparent;\n",
              "      border-left-color: var(--fill-color);\n",
              "      border-top-color: var(--fill-color);\n",
              "    }\n",
              "    30% {\n",
              "      border-color: transparent;\n",
              "      border-left-color: var(--fill-color);\n",
              "      border-top-color: var(--fill-color);\n",
              "      border-right-color: var(--fill-color);\n",
              "    }\n",
              "    40% {\n",
              "      border-color: transparent;\n",
              "      border-right-color: var(--fill-color);\n",
              "      border-top-color: var(--fill-color);\n",
              "    }\n",
              "    60% {\n",
              "      border-color: transparent;\n",
              "      border-right-color: var(--fill-color);\n",
              "    }\n",
              "    80% {\n",
              "      border-color: transparent;\n",
              "      border-right-color: var(--fill-color);\n",
              "      border-bottom-color: var(--fill-color);\n",
              "    }\n",
              "    90% {\n",
              "      border-color: transparent;\n",
              "      border-bottom-color: var(--fill-color);\n",
              "    }\n",
              "  }\n",
              "</style>\n",
              "\n",
              "  <script>\n",
              "    async function quickchart(key) {\n",
              "      const quickchartButtonEl =\n",
              "        document.querySelector('#' + key + ' button');\n",
              "      quickchartButtonEl.disabled = true;  // To prevent multiple clicks.\n",
              "      quickchartButtonEl.classList.add('colab-df-spinner');\n",
              "      try {\n",
              "        const charts = await google.colab.kernel.invokeFunction(\n",
              "            'suggestCharts', [key], {});\n",
              "      } catch (error) {\n",
              "        console.error('Error during call to suggestCharts:', error);\n",
              "      }\n",
              "      quickchartButtonEl.classList.remove('colab-df-spinner');\n",
              "      quickchartButtonEl.classList.add('colab-df-quickchart-complete');\n",
              "    }\n",
              "    (() => {\n",
              "      let quickchartButtonEl =\n",
              "        document.querySelector('#df-241e94ac-b7aa-43a1-b2b5-235e5628d89d button');\n",
              "      quickchartButtonEl.style.display =\n",
              "        google.colab.kernel.accessAllowed ? 'block' : 'none';\n",
              "    })();\n",
              "  </script>\n",
              "</div>\n",
              "\n",
              "    </div>\n",
              "  </div>\n"
            ],
            "application/vnd.google.colaboratory.intrinsic+json": {
              "type": "dataframe",
              "variable_name": "df",
              "summary": "{\n  \"name\": \"df\",\n  \"rows\": 517,\n  \"fields\": [\n    {\n      \"column\": \"Model Name\",\n      \"properties\": {\n        \"dtype\": \"string\",\n        \"num_unique_values\": 284,\n        \"samples\": [\n          \"A-2\",\n          \"TurboStream (Cessna 310 & 320 conv) 310hp\",\n          \"112\"\n        ],\n        \"semantic_type\": \"\",\n        \"description\": \"\"\n      }\n    },\n    {\n      \"column\": \"Engine Type\",\n      \"properties\": {\n        \"dtype\": \"category\",\n        \"num_unique_values\": 4,\n        \"samples\": [\n          \"Propjet\",\n          \"piston\",\n          \"Piston\"\n        ],\n        \"semantic_type\": \"\",\n        \"description\": \"\"\n      }\n    },\n    {\n      \"column\": \"HP or lbs thr ea engine\",\n      \"properties\": {\n        \"dtype\": \"category\",\n        \"num_unique_values\": 117,\n        \"samples\": [\n          \"165\",\n          \"350\",\n          \"6,400\"\n        ],\n        \"semantic_type\": \"\",\n        \"description\": \"\"\n      }\n    },\n    {\n      \"column\": \"Max speed Knots\",\n      \"properties\": {\n        \"dtype\": \"category\",\n        \"num_unique_values\": 209,\n        \"samples\": [\n          \"157\",\n          \"459\",\n          \"193\"\n        ],\n        \"semantic_type\": \"\",\n        \"description\": \"\"\n      }\n    },\n    {\n      \"column\": \"Rcmnd cruise Knots\",\n      \"properties\": {\n        \"dtype\": \"number\",\n        \"std\": 104.2805320114765,\n        \"min\": 70.0,\n        \"max\": 511.0,\n        \"num_unique_values\": 188,\n        \"samples\": [\n          175.0,\n          171.0,\n          109.0\n        ],\n        \"semantic_type\": \"\",\n        \"description\": \"\"\n      }\n    },\n    {\n      \"column\": \"Stall Knots dirty\",\n      \"properties\": {\n        \"dtype\": \"number\",\n        \"std\": 16.657002460477145,\n        \"min\": 27.0,\n        \"max\": 115.0,\n        \"num_unique_values\": 69,\n        \"samples\": [\n          57.0,\n          46.0,\n          88.0\n        ],\n        \"semantic_type\": \"\",\n        \"description\": \"\"\n      }\n    },\n    {\n      \"column\": \"Fuel gal/lbs\",\n      \"properties\": {\n        \"dtype\": \"number\",\n        \"std\": 4278,\n        \"min\": 12,\n        \"max\": 41000,\n        \"num_unique_values\": 173,\n        \"samples\": [\n          96,\n          275,\n          3780\n        ],\n        \"semantic_type\": \"\",\n        \"description\": \"\"\n      }\n    },\n    {\n      \"column\": \"All eng rate of climb\",\n      \"properties\": {\n        \"dtype\": \"string\",\n        \"num_unique_values\": 264,\n        \"samples\": [\n          \"2,020\",\n          \"870\",\n          \"1,200\"\n        ],\n        \"semantic_type\": \"\",\n        \"description\": \"\"\n      }\n    },\n    {\n      \"column\": \"Eng out rate of climb\",\n      \"properties\": {\n        \"dtype\": \"number\",\n        \"std\": 1150.031898555897,\n        \"min\": 457.0,\n        \"max\": 6400.0,\n        \"num_unique_values\": 277,\n        \"samples\": [\n          1600.0,\n          2930.0,\n          4950.0\n        ],\n        \"semantic_type\": \"\",\n        \"description\": \"\"\n      }\n    },\n    {\n      \"column\": \"Takeoff over 50ft\",\n      \"properties\": {\n        \"dtype\": \"number\",\n        \"std\": 730.0096735911574,\n        \"min\": 500.0,\n        \"max\": 4850.0,\n        \"num_unique_values\": 241,\n        \"samples\": [\n          1120.0,\n          2076.0,\n          650.0\n        ],\n        \"semantic_type\": \"\",\n        \"description\": \"\"\n      }\n    },\n    {\n      \"column\": \"Landing over 50ft\",\n      \"properties\": {\n        \"dtype\": \"category\",\n        \"num_unique_values\": 213,\n        \"samples\": [\n          \"5,200\",\n          \"8,930\",\n          \"2,900\"\n        ],\n        \"semantic_type\": \"\",\n        \"description\": \"\"\n      }\n    },\n    {\n      \"column\": \"Empty weight lbs\",\n      \"properties\": {\n        \"dtype\": \"string\",\n        \"num_unique_values\": 428,\n        \"samples\": [\n          \"1,782\",\n          \"3,956\",\n          \"4,252\"\n        ],\n        \"semantic_type\": \"\",\n        \"description\": \"\"\n      }\n    },\n    {\n      \"column\": \"Length ft/in\",\n      \"properties\": {\n        \"dtype\": \"category\",\n        \"num_unique_values\": 183,\n        \"samples\": [\n          \"29/7\",\n          \"31/5\",\n          \"79/11\"\n        ],\n        \"semantic_type\": \"\",\n        \"description\": \"\"\n      }\n    },\n    {\n      \"column\": \"Wing span ft/in\",\n      \"properties\": {\n        \"dtype\": \"category\",\n        \"num_unique_values\": 136,\n        \"samples\": [\n          \"38/1\",\n          \"38/0\",\n          \"54/1\"\n        ],\n        \"semantic_type\": \"\",\n        \"description\": \"\"\n      }\n    },\n    {\n      \"column\": \"Range N.M.\",\n      \"properties\": {\n        \"dtype\": \"string\",\n        \"num_unique_values\": 299,\n        \"samples\": [\n          \"1450\",\n          \"1,137\",\n          \"866\"\n        ],\n        \"semantic_type\": \"\",\n        \"description\": \"\"\n      }\n    },\n    {\n      \"column\": \"Price\",\n      \"properties\": {\n        \"dtype\": \"number\",\n        \"std\": 1018731.4009992008,\n        \"min\": 650000.0,\n        \"max\": 5100000.0,\n        \"num_unique_values\": 177,\n        \"samples\": [\n          1700000.0,\n          2700000.0,\n          1960000.0\n        ],\n        \"semantic_type\": \"\",\n        \"description\": \"\"\n      }\n    }\n  ]\n}"
            }
          },
          "metadata": {},
          "execution_count": 179
        }
      ]
    },
    {
      "cell_type": "code",
      "source": [
        "df.info()"
      ],
      "metadata": {
        "colab": {
          "base_uri": "https://localhost:8080/"
        },
        "id": "K3V-ndwtvzKU",
        "outputId": "a87d2e88-7088-4142-bce5-e9fc1da87ea8"
      },
      "execution_count": 180,
      "outputs": [
        {
          "output_type": "stream",
          "name": "stdout",
          "text": [
            "<class 'pandas.core.frame.DataFrame'>\n",
            "RangeIndex: 517 entries, 0 to 516\n",
            "Data columns (total 16 columns):\n",
            " #   Column                   Non-Null Count  Dtype  \n",
            "---  ------                   --------------  -----  \n",
            " 0   Model Name               517 non-null    object \n",
            " 1   Engine Type              517 non-null    object \n",
            " 2   HP or lbs thr ea engine  517 non-null    object \n",
            " 3   Max speed Knots          497 non-null    object \n",
            " 4   Rcmnd cruise Knots       507 non-null    float64\n",
            " 5   Stall Knots dirty        502 non-null    float64\n",
            " 6   Fuel gal/lbs             517 non-null    int64  \n",
            " 7   All eng rate of climb    513 non-null    object \n",
            " 8   Eng out rate of climb    491 non-null    float64\n",
            " 9   Takeoff over 50ft        492 non-null    float64\n",
            " 10  Landing over 50ft        517 non-null    object \n",
            " 11  Empty weight lbs         516 non-null    object \n",
            " 12  Length ft/in             517 non-null    object \n",
            " 13  Wing span ft/in          517 non-null    object \n",
            " 14  Range N.M.               499 non-null    object \n",
            " 15  Price                    507 non-null    float64\n",
            "dtypes: float64(5), int64(1), object(10)\n",
            "memory usage: 64.8+ KB\n"
          ]
        }
      ]
    },
    {
      "cell_type": "code",
      "source": [
        "df = df.rename(columns={'Model Name': 'model'})\n",
        "df = df.rename(columns={'Engine Type': 'engine'})\n",
        "df = df.rename(columns={'HP or lbs thr ea engine': 'HP'})\n",
        "df = df.rename(columns={'Max speed Knots': 'speed'})\n",
        "df = df.rename(columns={'Rcmnd cruise Knots': 'cruise'})\n",
        "df = df.rename(columns={'Stall Knots dirty': 'stall'})\n",
        "df = df.rename(columns={'Fuel gal/lbs': 'fuel'})\n",
        "df = df.rename(columns={'All eng rate of climb': 'all eng rate'})\n",
        "df = df.rename(columns={'Eng out rate of climb': 'eng out rate'})\n",
        "df = df.rename(columns={'Takeoff over 50ft': 'takeoff'})\n",
        "df = df.rename(columns={'Landing over 50ft': 'landing'})\n",
        "df = df.rename(columns={'Empty weight lbs': 'weight'})\n",
        "df = df.rename(columns={'Length ft/in': 'length'})\n",
        "df = df.rename(columns={'Wing span ft/in': 'wingspan'})\n",
        "df = df.rename(columns={'Range N.M.': 'range'})\n",
        "df = df.rename(columns={'Price': 'price'})"
      ],
      "metadata": {
        "id": "LZtsCJ53y-MR"
      },
      "execution_count": 181,
      "outputs": []
    },
    {
      "cell_type": "code",
      "source": [
        "df.isnull().sum()"
      ],
      "metadata": {
        "colab": {
          "base_uri": "https://localhost:8080/",
          "height": 585
        },
        "id": "KWUYZ21QynOD",
        "outputId": "c97828f4-6271-4dab-a682-0c6099d55428"
      },
      "execution_count": 182,
      "outputs": [
        {
          "output_type": "execute_result",
          "data": {
            "text/plain": [
              "model            0\n",
              "engine           0\n",
              "HP               0\n",
              "speed           20\n",
              "cruise          10\n",
              "stall           15\n",
              "fuel             0\n",
              "all eng rate     4\n",
              "eng out rate    26\n",
              "takeoff         25\n",
              "landing          0\n",
              "weight           1\n",
              "length           0\n",
              "wingspan         0\n",
              "range           18\n",
              "price           10\n",
              "dtype: int64"
            ],
            "text/html": [
              "<div>\n",
              "<style scoped>\n",
              "    .dataframe tbody tr th:only-of-type {\n",
              "        vertical-align: middle;\n",
              "    }\n",
              "\n",
              "    .dataframe tbody tr th {\n",
              "        vertical-align: top;\n",
              "    }\n",
              "\n",
              "    .dataframe thead th {\n",
              "        text-align: right;\n",
              "    }\n",
              "</style>\n",
              "<table border=\"1\" class=\"dataframe\">\n",
              "  <thead>\n",
              "    <tr style=\"text-align: right;\">\n",
              "      <th></th>\n",
              "      <th>0</th>\n",
              "    </tr>\n",
              "  </thead>\n",
              "  <tbody>\n",
              "    <tr>\n",
              "      <th>model</th>\n",
              "      <td>0</td>\n",
              "    </tr>\n",
              "    <tr>\n",
              "      <th>engine</th>\n",
              "      <td>0</td>\n",
              "    </tr>\n",
              "    <tr>\n",
              "      <th>HP</th>\n",
              "      <td>0</td>\n",
              "    </tr>\n",
              "    <tr>\n",
              "      <th>speed</th>\n",
              "      <td>20</td>\n",
              "    </tr>\n",
              "    <tr>\n",
              "      <th>cruise</th>\n",
              "      <td>10</td>\n",
              "    </tr>\n",
              "    <tr>\n",
              "      <th>stall</th>\n",
              "      <td>15</td>\n",
              "    </tr>\n",
              "    <tr>\n",
              "      <th>fuel</th>\n",
              "      <td>0</td>\n",
              "    </tr>\n",
              "    <tr>\n",
              "      <th>all eng rate</th>\n",
              "      <td>4</td>\n",
              "    </tr>\n",
              "    <tr>\n",
              "      <th>eng out rate</th>\n",
              "      <td>26</td>\n",
              "    </tr>\n",
              "    <tr>\n",
              "      <th>takeoff</th>\n",
              "      <td>25</td>\n",
              "    </tr>\n",
              "    <tr>\n",
              "      <th>landing</th>\n",
              "      <td>0</td>\n",
              "    </tr>\n",
              "    <tr>\n",
              "      <th>weight</th>\n",
              "      <td>1</td>\n",
              "    </tr>\n",
              "    <tr>\n",
              "      <th>length</th>\n",
              "      <td>0</td>\n",
              "    </tr>\n",
              "    <tr>\n",
              "      <th>wingspan</th>\n",
              "      <td>0</td>\n",
              "    </tr>\n",
              "    <tr>\n",
              "      <th>range</th>\n",
              "      <td>18</td>\n",
              "    </tr>\n",
              "    <tr>\n",
              "      <th>price</th>\n",
              "      <td>10</td>\n",
              "    </tr>\n",
              "  </tbody>\n",
              "</table>\n",
              "</div><br><label><b>dtype:</b> int64</label>"
            ]
          },
          "metadata": {},
          "execution_count": 182
        }
      ]
    },
    {
      "cell_type": "code",
      "source": [
        "df.info()"
      ],
      "metadata": {
        "colab": {
          "base_uri": "https://localhost:8080/"
        },
        "id": "2VYLcGMI51FN",
        "outputId": "f7a9f413-8924-470a-c963-85ce6e3b5039"
      },
      "execution_count": 183,
      "outputs": [
        {
          "output_type": "stream",
          "name": "stdout",
          "text": [
            "<class 'pandas.core.frame.DataFrame'>\n",
            "RangeIndex: 517 entries, 0 to 516\n",
            "Data columns (total 16 columns):\n",
            " #   Column        Non-Null Count  Dtype  \n",
            "---  ------        --------------  -----  \n",
            " 0   model         517 non-null    object \n",
            " 1   engine        517 non-null    object \n",
            " 2   HP            517 non-null    object \n",
            " 3   speed         497 non-null    object \n",
            " 4   cruise        507 non-null    float64\n",
            " 5   stall         502 non-null    float64\n",
            " 6   fuel          517 non-null    int64  \n",
            " 7   all eng rate  513 non-null    object \n",
            " 8   eng out rate  491 non-null    float64\n",
            " 9   takeoff       492 non-null    float64\n",
            " 10  landing       517 non-null    object \n",
            " 11  weight        516 non-null    object \n",
            " 12  length        517 non-null    object \n",
            " 13  wingspan      517 non-null    object \n",
            " 14  range         499 non-null    object \n",
            " 15  price         507 non-null    float64\n",
            "dtypes: float64(5), int64(1), object(10)\n",
            "memory usage: 64.8+ KB\n"
          ]
        }
      ]
    },
    {
      "cell_type": "code",
      "source": [
        "df['engine'] = df['engine'].str.replace('piston', 'Piston').astype(str)\n",
        "df = pd.get_dummies(df,columns=['engine'],drop_first=True)\n",
        "\n",
        "\n",
        "df['HP'] = df['HP'].str.replace(r'[^\\d,]', '', regex=True)\n",
        "df['HP'] = df['HP'].str.replace(',', '').astype(float)\n",
        "\n",
        "\n",
        "df['speed'] = df['speed'].str.replace(r'[^\\d,]', '', regex=True)\n",
        "df['speed'] = df['speed'].str.replace(',', '').astype(float)\n",
        "df['speed'] = df['speed'].fillna(df['speed'].median())\n",
        "\n",
        "\n",
        "df['cruise'] = df['cruise'].fillna(df['cruise'].median())\n",
        "\n",
        "\n",
        "df['stall'] = df['stall'].fillna(df['stall'].median())\n",
        "\n",
        "\n",
        "df['fuel'] = df['fuel'].fillna(df['fuel'].median())\n",
        "\n",
        "\n",
        "df['all eng rate'] = df['all eng rate'].str.replace(r'[^\\d,]', '', regex=True)\n",
        "df['all eng rate'] = df['all eng rate'].str.replace(',', '').astype(float)\n",
        "df['all eng rate'] = df['all eng rate'].fillna(df['all eng rate'].median())\n",
        "\n",
        "\n",
        "df['eng out rate'] = df['eng out rate'].fillna(df['eng out rate'].median())\n",
        "\n",
        "\n",
        "df['takeoff'] = df['takeoff'].fillna(df['takeoff'].median())\n",
        "\n",
        "\n",
        "df['landing'] = df['landing'].str.replace(r'[^\\d,]', '', regex=True)\n",
        "df['landing'] = df['landing'].replace('', np.nan)\n",
        "df['landing'] = df['landing'].str.replace(',', '').astype(float)\n",
        "df['landing'] = df['landing'].fillna(df['landing'].median())\n",
        "\n",
        "\n",
        "df['weight'] = df['weight'].str.replace(r'[^\\d,]', '', regex=True)\n",
        "df['weight'] = df['weight'].str.replace(',', '').astype(float)\n",
        "df['weight'] = df['weight'].fillna(df['weight'].median())\n",
        "\n",
        "\n",
        "df['length'] = df['length'].replace(['N/C', 'Orig'], np.nan)\n",
        "\n",
        "\n",
        "def ft_to_inches(length):\n",
        "    try:\n",
        "        ft, inch = length.split('/')\n",
        "        ft = int(ft)\n",
        "        inch = int(inch)\n",
        "        return ft * 12 + inch\n",
        "    except:\n",
        "        return np.nan\n",
        "\n",
        "\n",
        "df['length'] = df['length'].apply(ft_to_inches)\n",
        "df['length'] = df['length'].fillna(df['length'].median())\n",
        "\n",
        "\n",
        "df['wingspan'] = df['wingspan'].apply(ft_to_inches)\n",
        "df['wingspan'] = df['wingspan'].fillna(df['wingspan'].median())\n",
        "\n",
        "\n",
        "df['range'] = df['range'].str.replace(r'[^\\d,]', '', regex=True)\n",
        "df['range'] = df['range'].str.replace(',', '').astype(float)\n",
        "df['range'] = df['range'].fillna(df['range'].median())"
      ],
      "metadata": {
        "id": "IrsViS_Hy3SH"
      },
      "execution_count": 184,
      "outputs": []
    },
    {
      "cell_type": "code",
      "source": [
        "df.isnull().sum()"
      ],
      "metadata": {
        "colab": {
          "base_uri": "https://localhost:8080/",
          "height": 617
        },
        "id": "mwfwrBH85XWK",
        "outputId": "67abca8d-40d0-46f4-e909-ab7001caab1d"
      },
      "execution_count": 185,
      "outputs": [
        {
          "output_type": "execute_result",
          "data": {
            "text/plain": [
              "model              0\n",
              "HP                 0\n",
              "speed              0\n",
              "cruise             0\n",
              "stall              0\n",
              "fuel               0\n",
              "all eng rate       0\n",
              "eng out rate       0\n",
              "takeoff            0\n",
              "landing            0\n",
              "weight             0\n",
              "length             0\n",
              "wingspan           0\n",
              "range              0\n",
              "price             10\n",
              "engine_Piston      0\n",
              "engine_Propjet     0\n",
              "dtype: int64"
            ],
            "text/html": [
              "<div>\n",
              "<style scoped>\n",
              "    .dataframe tbody tr th:only-of-type {\n",
              "        vertical-align: middle;\n",
              "    }\n",
              "\n",
              "    .dataframe tbody tr th {\n",
              "        vertical-align: top;\n",
              "    }\n",
              "\n",
              "    .dataframe thead th {\n",
              "        text-align: right;\n",
              "    }\n",
              "</style>\n",
              "<table border=\"1\" class=\"dataframe\">\n",
              "  <thead>\n",
              "    <tr style=\"text-align: right;\">\n",
              "      <th></th>\n",
              "      <th>0</th>\n",
              "    </tr>\n",
              "  </thead>\n",
              "  <tbody>\n",
              "    <tr>\n",
              "      <th>model</th>\n",
              "      <td>0</td>\n",
              "    </tr>\n",
              "    <tr>\n",
              "      <th>HP</th>\n",
              "      <td>0</td>\n",
              "    </tr>\n",
              "    <tr>\n",
              "      <th>speed</th>\n",
              "      <td>0</td>\n",
              "    </tr>\n",
              "    <tr>\n",
              "      <th>cruise</th>\n",
              "      <td>0</td>\n",
              "    </tr>\n",
              "    <tr>\n",
              "      <th>stall</th>\n",
              "      <td>0</td>\n",
              "    </tr>\n",
              "    <tr>\n",
              "      <th>fuel</th>\n",
              "      <td>0</td>\n",
              "    </tr>\n",
              "    <tr>\n",
              "      <th>all eng rate</th>\n",
              "      <td>0</td>\n",
              "    </tr>\n",
              "    <tr>\n",
              "      <th>eng out rate</th>\n",
              "      <td>0</td>\n",
              "    </tr>\n",
              "    <tr>\n",
              "      <th>takeoff</th>\n",
              "      <td>0</td>\n",
              "    </tr>\n",
              "    <tr>\n",
              "      <th>landing</th>\n",
              "      <td>0</td>\n",
              "    </tr>\n",
              "    <tr>\n",
              "      <th>weight</th>\n",
              "      <td>0</td>\n",
              "    </tr>\n",
              "    <tr>\n",
              "      <th>length</th>\n",
              "      <td>0</td>\n",
              "    </tr>\n",
              "    <tr>\n",
              "      <th>wingspan</th>\n",
              "      <td>0</td>\n",
              "    </tr>\n",
              "    <tr>\n",
              "      <th>range</th>\n",
              "      <td>0</td>\n",
              "    </tr>\n",
              "    <tr>\n",
              "      <th>price</th>\n",
              "      <td>10</td>\n",
              "    </tr>\n",
              "    <tr>\n",
              "      <th>engine_Piston</th>\n",
              "      <td>0</td>\n",
              "    </tr>\n",
              "    <tr>\n",
              "      <th>engine_Propjet</th>\n",
              "      <td>0</td>\n",
              "    </tr>\n",
              "  </tbody>\n",
              "</table>\n",
              "</div><br><label><b>dtype:</b> int64</label>"
            ]
          },
          "metadata": {},
          "execution_count": 185
        }
      ]
    },
    {
      "cell_type": "code",
      "source": [
        "df = df.dropna()"
      ],
      "metadata": {
        "id": "WE_Qc8KnpE1s"
      },
      "execution_count": 204,
      "outputs": []
    },
    {
      "cell_type": "code",
      "source": [
        "df.duplicated().sum()"
      ],
      "metadata": {
        "colab": {
          "base_uri": "https://localhost:8080/"
        },
        "id": "h_0lpUMU7S1i",
        "outputId": "c214b78f-7c32-43b2-86ca-4e801cb52746"
      },
      "execution_count": 205,
      "outputs": [
        {
          "output_type": "execute_result",
          "data": {
            "text/plain": [
              "0"
            ]
          },
          "metadata": {},
          "execution_count": 205
        }
      ]
    },
    {
      "cell_type": "code",
      "source": [
        "df.drop_duplicates(inplace=True)"
      ],
      "metadata": {
        "colab": {
          "base_uri": "https://localhost:8080/"
        },
        "id": "eu7-2oiH9pAy",
        "outputId": "b3590bee-b45a-4977-fab1-d7aa97ebc776"
      },
      "execution_count": 206,
      "outputs": [
        {
          "output_type": "stream",
          "name": "stderr",
          "text": [
            "<ipython-input-206-16cdb8520be8>:1: SettingWithCopyWarning: \n",
            "A value is trying to be set on a copy of a slice from a DataFrame\n",
            "\n",
            "See the caveats in the documentation: https://pandas.pydata.org/pandas-docs/stable/user_guide/indexing.html#returning-a-view-versus-a-copy\n",
            "  df.drop_duplicates(inplace=True)\n"
          ]
        }
      ]
    },
    {
      "cell_type": "code",
      "source": [
        "df.plot(kind = 'box', subplots = True, layout = (2,7), sharex = False, sharey = False, figsize = (20, 10), color = 'k')\n",
        "plt.show()"
      ],
      "metadata": {
        "colab": {
          "base_uri": "https://localhost:8080/",
          "height": 450
        },
        "id": "7QfGfwBW9s65",
        "outputId": "c83d36de-fa84-4394-9f80-45edd53a59a4"
      },
      "execution_count": 207,
      "outputs": [
        {
          "output_type": "display_data",
          "data": {
            "text/plain": [
              "<Figure size 2000x1000 with 14 Axes>"
            ],
            "image/png": "[encoded data removed]"
          },
          "metadata": {}
        }
      ]
    },
    {
      "cell_type": "code",
      "source": [
        "numeric_features = ['HP', 'speed', 'cruise', 'stall', 'fuel', 'all eng rate', 'eng out rate', 'takeoff', 'landing', 'weight', 'range']\n",
        "\n",
        "# Mendefinisikan fungsi untuk mendeteksi dan menampilkan/menghapus outliers\n",
        "def outliers(data_out, data, drop=False):\n",
        "    for each_feature in data_out:\n",
        "        feature_data = data[each_feature]\n",
        "        Q1 = np.percentile(feature_data, 25.)  # Kuartil 1\n",
        "        Q3 = np.percentile(feature_data, 75.)  # Kuartil 3\n",
        "        IQR = Q3 - Q1  # Rentang antar-kuartil\n",
        "        outlier_step = IQR * 1.5  # Aturan Tukey untuk mendeteksi outlier\n",
        "        outliers = feature_data[~((feature_data >= Q1 - outlier_step) &\n",
        "                                  (feature_data <= Q3 + outlier_step))].index.tolist()\n",
        "        if not drop:\n",
        "            print('For the feature {}, Num of Outliers is {}'.format(each_feature, len(outliers)))\n",
        "        if drop:\n",
        "            data.drop(outliers, inplace=True, errors='ignore')\n",
        "            print('Outliers from {} feature removed'.format(each_feature))\n",
        "\n",
        "outliers(numeric_features, df, drop=False)"
      ],
      "metadata": {
        "colab": {
          "base_uri": "https://localhost:8080/"
        },
        "id": "P1h7CzxC96Z0",
        "outputId": "3700c143-8101-4722-b17e-6c90f5598f43"
      },
      "execution_count": 208,
      "outputs": [
        {
          "output_type": "stream",
          "name": "stdout",
          "text": [
            "For the feature HP, Num of Outliers is 4\n",
            "For the feature speed, Num of Outliers is 0\n",
            "For the feature cruise, Num of Outliers is 0\n",
            "For the feature stall, Num of Outliers is 6\n",
            "For the feature fuel, Num of Outliers is 2\n",
            "For the feature all eng rate, Num of Outliers is 7\n",
            "For the feature eng out rate, Num of Outliers is 9\n",
            "For the feature takeoff, Num of Outliers is 1\n",
            "For the feature landing, Num of Outliers is 1\n",
            "For the feature weight, Num of Outliers is 1\n",
            "For the feature range, Num of Outliers is 0\n"
          ]
        }
      ]
    },
    {
      "cell_type": "code",
      "source": [
        "outliers(numeric_features, df, drop=True)"
      ],
      "metadata": {
        "colab": {
          "base_uri": "https://localhost:8080/"
        },
        "id": "NBOV7CAA-GIs",
        "outputId": "b709a9a1-40e7-4ca3-956c-0a7c84b567a4"
      },
      "execution_count": 209,
      "outputs": [
        {
          "output_type": "stream",
          "name": "stdout",
          "text": [
            "Outliers from HP feature removed\n",
            "Outliers from speed feature removed\n",
            "Outliers from cruise feature removed\n",
            "Outliers from stall feature removed\n",
            "Outliers from fuel feature removed\n",
            "Outliers from all eng rate feature removed\n",
            "Outliers from eng out rate feature removed\n",
            "Outliers from takeoff feature removed\n",
            "Outliers from landing feature removed\n",
            "Outliers from weight feature removed\n",
            "Outliers from range feature removed\n"
          ]
        }
      ]
    },
    {
      "cell_type": "code",
      "source": [
        "df.plot(kind = 'box', subplots = True, layout = (2,7), sharex = False, sharey = False, figsize = (20, 10), color = 'k')\n",
        "plt.show()"
      ],
      "metadata": {
        "colab": {
          "base_uri": "https://localhost:8080/",
          "height": 449
        },
        "id": "9QdALZBY-tR-",
        "outputId": "2c4bcc69-d857-4ea0-d497-38b5e7fe4c0d"
      },
      "execution_count": 210,
      "outputs": [
        {
          "output_type": "display_data",
          "data": {
            "text/plain": [
              "<Figure size 2000x1000 with 14 Axes>"
            ],
            "image/png": "[encoded data removed]"
          },
          "metadata": {}
        }
      ]
    },
    {
      "cell_type": "code",
      "source": [
        "X = df.drop(columns=['model', 'price'], axis=1)\n",
        "y = df['price']"
      ],
      "metadata": {
        "id": "HodTDOHZ-vqY"
      },
      "execution_count": 211,
      "outputs": []
    },
    {
      "cell_type": "code",
      "source": [
        "numerical_columns = X.select_dtypes(include=['float64', 'int64']).columns\n",
        "\n",
        "scaler = StandardScaler()\n",
        "X[numerical_columns] = scaler.fit_transform(X[numerical_columns])"
      ],
      "metadata": {
        "id": "fvpkzrCxW3Gn"
      },
      "execution_count": 212,
      "outputs": []
    },
    {
      "cell_type": "code",
      "source": [
        "X.describe()"
      ],
      "metadata": {
        "colab": {
          "base_uri": "https://localhost:8080/",
          "height": 320
        },
        "id": "hvxb-lVYl5e-",
        "outputId": "fb2a0c70-b9ff-47d5-f84d-67f183afed4f"
      },
      "execution_count": 213,
      "outputs": [
        {
          "output_type": "execute_result",
          "data": {
            "text/plain": [
              "                 HP         speed        cruise         stall          fuel  \\\n",
              "count  2.550000e+02  2.550000e+02  2.550000e+02  2.550000e+02  2.550000e+02   \n",
              "mean  -1.393221e-17 -3.343731e-16  8.359326e-17 -4.179663e-16 -1.532543e-16   \n",
              "std    1.001967e+00  1.001967e+00  1.001967e+00  1.001967e+00  1.001967e+00   \n",
              "min   -2.165302e+00 -2.175644e+00 -2.132303e+00 -2.604771e+00 -1.932329e+00   \n",
              "25%   -7.102411e-01 -8.078664e-01 -7.507450e-01 -5.603287e-01 -7.119107e-01   \n",
              "50%    1.728955e-02  3.145157e-02  9.702920e-02 -3.028804e-02 -1.888743e-01   \n",
              "75%    9.267029e-01  7.775120e-01  7.250101e-01  5.754727e-01  5.085076e-01   \n",
              "max    1.690610e+00  2.362890e+00  2.326361e+00  2.392755e+00  2.426308e+00   \n",
              "\n",
              "       all eng rate  eng out rate       takeoff       landing        weight  \\\n",
              "count  2.550000e+02  2.550000e+02  2.550000e+02  2.550000e+02  2.550000e+02   \n",
              "mean   1.114577e-16  2.055001e-16  3.030256e-16  1.671865e-16  2.786442e-17   \n",
              "std    1.001967e+00  1.001967e+00  1.001967e+00  1.001967e+00  1.001967e+00   \n",
              "min   -2.443006e+00 -2.625999e+00 -2.908272e+00 -2.318804e+00 -2.212286e+00   \n",
              "25%   -8.533720e-01 -6.989325e-01 -7.210467e-01 -6.191010e-01 -6.114213e-01   \n",
              "50%    6.470546e-02 -2.117529e-02  1.100989e-01 -3.299653e-02  1.910331e-02   \n",
              "75%    7.447628e-01  5.657485e-01  8.100110e-01  6.117184e-01  6.506100e-01   \n",
              "max    3.252474e+00  2.452289e+00  2.476677e+00  2.405198e+00  2.472453e+00   \n",
              "\n",
              "             length      wingspan         range  \n",
              "count  2.550000e+02  2.550000e+02  2.550000e+02  \n",
              "mean  -1.950509e-16  5.538054e-16  2.020171e-16  \n",
              "std    1.001967e+00  1.001967e+00  1.001967e+00  \n",
              "min   -3.020492e+00 -6.404116e+00 -2.296529e+00  \n",
              "25%   -5.200682e-01 -6.303224e-01 -6.733515e-01  \n",
              "50%    4.964852e-02  2.753707e-01 -1.999697e-02  \n",
              "75%    6.668417e-01  4.451881e-01  6.895052e-01  \n",
              "max    2.518421e+00  2.313180e+00  2.721029e+00  "
            ],
            "text/html": [
              "\n",
              "  <div id=\"df-e3ee9ae1-a8c0-47ec-94c2-2b701313c289\" class=\"colab-df-container\">\n",
              "    <div>\n",
              "<style scoped>\n",
              "    .dataframe tbody tr th:only-of-type {\n",
              "        vertical-align: middle;\n",
              "    }\n",
              "\n",
              "    .dataframe tbody tr th {\n",
              "        vertical-align: top;\n",
              "    }\n",
              "\n",
              "    .dataframe thead th {\n",
              "        text-align: right;\n",
              "    }\n",
              "</style>\n",
              "<table border=\"1\" class=\"dataframe\">\n",
              "  <thead>\n",
              "    <tr style=\"text-align: right;\">\n",
              "      <th></th>\n",
              "      <th>HP</th>\n",
              "      <th>speed</th>\n",
              "      <th>cruise</th>\n",
              "      <th>stall</th>\n",
              "      <th>fuel</th>\n",
              "      <th>all eng rate</th>\n",
              "      <th>eng out rate</th>\n",
              "      <th>takeoff</th>\n",
              "      <th>landing</th>\n",
              "      <th>weight</th>\n",
              "      <th>length</th>\n",
              "      <th>wingspan</th>\n",
              "      <th>range</th>\n",
              "    </tr>\n",
              "  </thead>\n",
              "  <tbody>\n",
              "    <tr>\n",
              "      <th>count</th>\n",
              "      <td>2.550000e+02</td>\n",
              "      <td>2.550000e+02</td>\n",
              "      <td>2.550000e+02</td>\n",
              "      <td>2.550000e+02</td>\n",
              "      <td>2.550000e+02</td>\n",
              "      <td>2.550000e+02</td>\n",
              "      <td>2.550000e+02</td>\n",
              "      <td>2.550000e+02</td>\n",
              "      <td>2.550000e+02</td>\n",
              "      <td>2.550000e+02</td>\n",
              "      <td>2.550000e+02</td>\n",
              "      <td>2.550000e+02</td>\n",
              "      <td>2.550000e+02</td>\n",
              "    </tr>\n",
              "    <tr>\n",
              "      <th>mean</th>\n",
              "      <td>-1.393221e-17</td>\n",
              "      <td>-3.343731e-16</td>\n",
              "      <td>8.359326e-17</td>\n",
              "      <td>-4.179663e-16</td>\n",
              "      <td>-1.532543e-16</td>\n",
              "      <td>1.114577e-16</td>\n",
              "      <td>2.055001e-16</td>\n",
              "      <td>3.030256e-16</td>\n",
              "      <td>1.671865e-16</td>\n",
              "      <td>2.786442e-17</td>\n",
              "      <td>-1.950509e-16</td>\n",
              "      <td>5.538054e-16</td>\n",
              "      <td>2.020171e-16</td>\n",
              "    </tr>\n",
              "    <tr>\n",
              "      <th>std</th>\n",
              "      <td>1.001967e+00</td>\n",
              "      <td>1.001967e+00</td>\n",
              "      <td>1.001967e+00</td>\n",
              "      <td>1.001967e+00</td>\n",
              "      <td>1.001967e+00</td>\n",
              "      <td>1.001967e+00</td>\n",
              "      <td>1.001967e+00</td>\n",
              "      <td>1.001967e+00</td>\n",
              "      <td>1.001967e+00</td>\n",
              "      <td>1.001967e+00</td>\n",
              "      <td>1.001967e+00</td>\n",
              "      <td>1.001967e+00</td>\n",
              "      <td>1.001967e+00</td>\n",
              "    </tr>\n",
              "    <tr>\n",
              "      <th>min</th>\n",
              "      <td>-2.165302e+00</td>\n",
              "      <td>-2.175644e+00</td>\n",
              "      <td>-2.132303e+00</td>\n",
              "      <td>-2.604771e+00</td>\n",
              "      <td>-1.932329e+00</td>\n",
              "      <td>-2.443006e+00</td>\n",
              "      <td>-2.625999e+00</td>\n",
              "      <td>-2.908272e+00</td>\n",
              "      <td>-2.318804e+00</td>\n",
              "      <td>-2.212286e+00</td>\n",
              "      <td>-3.020492e+00</td>\n",
              "      <td>-6.404116e+00</td>\n",
              "      <td>-2.296529e+00</td>\n",
              "    </tr>\n",
              "    <tr>\n",
              "      <th>25%</th>\n",
              "      <td>-7.102411e-01</td>\n",
              "      <td>-8.078664e-01</td>\n",
              "      <td>-7.507450e-01</td>\n",
              "      <td>-5.603287e-01</td>\n",
              "      <td>-7.119107e-01</td>\n",
              "      <td>-8.533720e-01</td>\n",
              "      <td>-6.989325e-01</td>\n",
              "      <td>-7.210467e-01</td>\n",
              "      <td>-6.191010e-01</td>\n",
              "      <td>-6.114213e-01</td>\n",
              "      <td>-5.200682e-01</td>\n",
              "      <td>-6.303224e-01</td>\n",
              "      <td>-6.733515e-01</td>\n",
              "    </tr>\n",
              "    <tr>\n",
              "      <th>50%</th>\n",
              "      <td>1.728955e-02</td>\n",
              "      <td>3.145157e-02</td>\n",
              "      <td>9.702920e-02</td>\n",
              "      <td>-3.028804e-02</td>\n",
              "      <td>-1.888743e-01</td>\n",
              "      <td>6.470546e-02</td>\n",
              "      <td>-2.117529e-02</td>\n",
              "      <td>1.100989e-01</td>\n",
              "      <td>-3.299653e-02</td>\n",
              "      <td>1.910331e-02</td>\n",
              "      <td>4.964852e-02</td>\n",
              "      <td>2.753707e-01</td>\n",
              "      <td>-1.999697e-02</td>\n",
              "    </tr>\n",
              "    <tr>\n",
              "      <th>75%</th>\n",
              "      <td>9.267029e-01</td>\n",
              "      <td>7.775120e-01</td>\n",
              "      <td>7.250101e-01</td>\n",
              "      <td>5.754727e-01</td>\n",
              "      <td>5.085076e-01</td>\n",
              "      <td>7.447628e-01</td>\n",
              "      <td>5.657485e-01</td>\n",
              "      <td>8.100110e-01</td>\n",
              "      <td>6.117184e-01</td>\n",
              "      <td>6.506100e-01</td>\n",
              "      <td>6.668417e-01</td>\n",
              "      <td>4.451881e-01</td>\n",
              "      <td>6.895052e-01</td>\n",
              "    </tr>\n",
              "    <tr>\n",
              "      <th>max</th>\n",
              "      <td>1.690610e+00</td>\n",
              "      <td>2.362890e+00</td>\n",
              "      <td>2.326361e+00</td>\n",
              "      <td>2.392755e+00</td>\n",
              "      <td>2.426308e+00</td>\n",
              "      <td>3.252474e+00</td>\n",
              "      <td>2.452289e+00</td>\n",
              "      <td>2.476677e+00</td>\n",
              "      <td>2.405198e+00</td>\n",
              "      <td>2.472453e+00</td>\n",
              "      <td>2.518421e+00</td>\n",
              "      <td>2.313180e+00</td>\n",
              "      <td>2.721029e+00</td>\n",
              "    </tr>\n",
              "  </tbody>\n",
              "</table>\n",
              "</div>\n",
              "    <div class=\"colab-df-buttons\">\n",
              "\n",
              "  <div class=\"colab-df-container\">\n",
              "    <button class=\"colab-df-convert\" onclick=\"convertToInteractive('df-e3ee9ae1-a8c0-47ec-94c2-2b701313c289')\"\n",
              "            title=\"Convert this dataframe to an interactive table.\"\n",
              "            style=\"display:none;\">\n",
              "\n",
              "  <svg xmlns=\"http://www.w3.org/2000/svg\" height=\"24px\" viewBox=\"0 -960 960 960\">\n",
              "    <path d=\"M120-120v-720h720v720H120Zm60-500h600v-160H180v160Zm220 220h160v-160H400v160Zm0 220h160v-160H400v160ZM180-400h160v-160H180v160Zm440 0h160v-160H620v160ZM180-180h160v-160H180v160Zm440 0h160v-160H620v160Z\"/>\n",
              "  </svg>\n",
              "    </button>\n",
              "\n",
              "  <style>\n",
              "    .colab-df-container {\n",
              "      display:flex;\n",
              "      gap: 12px;\n",
              "    }\n",
              "\n",
              "    .colab-df-convert {\n",
              "      background-color: #E8F0FE;\n",
              "      border: none;\n",
              "      border-radius: 50%;\n",
              "      cursor: pointer;\n",
              "      display: none;\n",
              "      fill: #1967D2;\n",
              "      height: 32px;\n",
              "      padding: 0 0 0 0;\n",
              "      width: 32px;\n",
              "    }\n",
              "\n",
              "    .colab-df-convert:hover {\n",
              "      background-color: #E2EBFA;\n",
              "      box-shadow: 0px 1px 2px rgba(60, 64, 67, 0.3), 0px 1px 3px 1px rgba(60, 64, 67, 0.15);\n",
              "      fill: #174EA6;\n",
              "    }\n",
              "\n",
              "    .colab-df-buttons div {\n",
              "      margin-bottom: 4px;\n",
              "    }\n",
              "\n",
              "    [theme=dark] .colab-df-convert {\n",
              "      background-color: #3B4455;\n",
              "      fill: #D2E3FC;\n",
              "    }\n",
              "\n",
              "    [theme=dark] .colab-df-convert:hover {\n",
              "      background-color: #434B5C;\n",
              "      box-shadow: 0px 1px 3px 1px rgba(0, 0, 0, 0.15);\n",
              "      filter: drop-shadow(0px 1px 2px rgba(0, 0, 0, 0.3));\n",
              "      fill: #FFFFFF;\n",
              "    }\n",
              "  </style>\n",
              "\n",
              "    <script>\n",
              "      const buttonEl =\n",
              "        document.querySelector('#df-e3ee9ae1-a8c0-47ec-94c2-2b701313c289 button.colab-df-convert');\n",
              "      buttonEl.style.display =\n",
              "        google.colab.kernel.accessAllowed ? 'block' : 'none';\n",
              "\n",
              "      async function convertToInteractive(key) {\n",
              "        const element = document.querySelector('#df-e3ee9ae1-a8c0-47ec-94c2-2b701313c289');\n",
              "        const dataTable =\n",
              "          await google.colab.kernel.invokeFunction('convertToInteractive',\n",
              "                                                    [key], {});\n",
              "        if (!dataTable) return;\n",
              "\n",
              "        const docLinkHtml = 'Like what you see? Visit the ' +\n",
              "          '<a target=\"_blank\" href=https://colab.research.google.com/notebooks/data_table.ipynb>data table notebook</a>'\n",
              "          + ' to learn more about interactive tables.';\n",
              "        element.innerHTML = '';\n",
              "        dataTable['output_type'] = 'display_data';\n",
              "        await google.colab.output.renderOutput(dataTable, element);\n",
              "        const docLink = document.createElement('div');\n",
              "        docLink.innerHTML = docLinkHtml;\n",
              "        element.appendChild(docLink);\n",
              "      }\n",
              "    </script>\n",
              "  </div>\n",
              "\n",
              "\n",
              "<div id=\"df-e6ba87bb-e2f4-465d-9d5f-a7a811dc1342\">\n",
              "  <button class=\"colab-df-quickchart\" onclick=\"quickchart('df-e6ba87bb-e2f4-465d-9d5f-a7a811dc1342')\"\n",
              "            title=\"Suggest charts\"\n",
              "            style=\"display:none;\">\n",
              "\n",
              "<svg xmlns=\"http://www.w3.org/2000/svg\" height=\"24px\"viewBox=\"0 0 24 24\"\n",
              "     width=\"24px\">\n",
              "    <g>\n",
              "        <path d=\"M19 3H5c-1.1 0-2 .9-2 2v14c0 1.1.9 2 2 2h14c1.1 0 2-.9 2-2V5c0-1.1-.9-2-2-2zM9 17H7v-7h2v7zm4 0h-2V7h2v10zm4 0h-2v-4h2v4z\"/>\n",
              "    </g>\n",
              "</svg>\n",
              "  </button>\n",
              "\n",
              "<style>\n",
              "  .colab-df-quickchart {\n",
              "      --bg-color: #E8F0FE;\n",
              "      --fill-color: #1967D2;\n",
              "      --hover-bg-color: #E2EBFA;\n",
              "      --hover-fill-color: #174EA6;\n",
              "      --disabled-fill-color: #AAA;\n",
              "      --disabled-bg-color: #DDD;\n",
              "  }\n",
              "\n",
              "  [theme=dark] .colab-df-quickchart {\n",
              "      --bg-color: #3B4455;\n",
              "      --fill-color: #D2E3FC;\n",
              "      --hover-bg-color: #434B5C;\n",
              "      --hover-fill-color: #FFFFFF;\n",
              "      --disabled-bg-color: #3B4455;\n",
              "      --disabled-fill-color: #666;\n",
              "  }\n",
              "\n",
              "  .colab-df-quickchart {\n",
              "    background-color: var(--bg-color);\n",
              "    border: none;\n",
              "    border-radius: 50%;\n",
              "    cursor: pointer;\n",
              "    display: none;\n",
              "    fill: var(--fill-color);\n",
              "    height: 32px;\n",
              "    padding: 0;\n",
              "    width: 32px;\n",
              "  }\n",
              "\n",
              "  .colab-df-quickchart:hover {\n",
              "    background-color: var(--hover-bg-color);\n",
              "    box-shadow: 0 1px 2px rgba(60, 64, 67, 0.3), 0 1px 3px 1px rgba(60, 64, 67, 0.15);\n",
              "    fill: var(--button-hover-fill-color);\n",
              "  }\n",
              "\n",
              "  .colab-df-quickchart-complete:disabled,\n",
              "  .colab-df-quickchart-complete:disabled:hover {\n",
              "    background-color: var(--disabled-bg-color);\n",
              "    fill: var(--disabled-fill-color);\n",
              "    box-shadow: none;\n",
              "  }\n",
              "\n",
              "  .colab-df-spinner {\n",
              "    border: 2px solid var(--fill-color);\n",
              "    border-color: transparent;\n",
              "    border-bottom-color: var(--fill-color);\n",
              "    animation:\n",
              "      spin 1s steps(1) infinite;\n",
              "  }\n",
              "\n",
              "  @keyframes spin {\n",
              "    0% {\n",
              "      border-color: transparent;\n",
              "      border-bottom-color: var(--fill-color);\n",
              "      border-left-color: var(--fill-color);\n",
              "    }\n",
              "    20% {\n",
              "      border-color: transparent;\n",
              "      border-left-color: var(--fill-color);\n",
              "      border-top-color: var(--fill-color);\n",
              "    }\n",
              "    30% {\n",
              "      border-color: transparent;\n",
              "      border-left-color: var(--fill-color);\n",
              "      border-top-color: var(--fill-color);\n",
              "      border-right-color: var(--fill-color);\n",
              "    }\n",
              "    40% {\n",
              "      border-color: transparent;\n",
              "      border-right-color: var(--fill-color);\n",
              "      border-top-color: var(--fill-color);\n",
              "    }\n",
              "    60% {\n",
              "      border-color: transparent;\n",
              "      border-right-color: var(--fill-color);\n",
              "    }\n",
              "    80% {\n",
              "      border-color: transparent;\n",
              "      border-right-color: var(--fill-color);\n",
              "      border-bottom-color: var(--fill-color);\n",
              "    }\n",
              "    90% {\n",
              "      border-color: transparent;\n",
              "      border-bottom-color: var(--fill-color);\n",
              "    }\n",
              "  }\n",
              "</style>\n",
              "\n",
              "  <script>\n",
              "    async function quickchart(key) {\n",
              "      const quickchartButtonEl =\n",
              "        document.querySelector('#' + key + ' button');\n",
              "      quickchartButtonEl.disabled = true;  // To prevent multiple clicks.\n",
              "      quickchartButtonEl.classList.add('colab-df-spinner');\n",
              "      try {\n",
              "        const charts = await google.colab.kernel.invokeFunction(\n",
              "            'suggestCharts', [key], {});\n",
              "      } catch (error) {\n",
              "        console.error('Error during call to suggestCharts:', error);\n",
              "      }\n",
              "      quickchartButtonEl.classList.remove('colab-df-spinner');\n",
              "      quickchartButtonEl.classList.add('colab-df-quickchart-complete');\n",
              "    }\n",
              "    (() => {\n",
              "      let quickchartButtonEl =\n",
              "        document.querySelector('#df-e6ba87bb-e2f4-465d-9d5f-a7a811dc1342 button');\n",
              "      quickchartButtonEl.style.display =\n",
              "        google.colab.kernel.accessAllowed ? 'block' : 'none';\n",
              "    })();\n",
              "  </script>\n",
              "</div>\n",
              "\n",
              "    </div>\n",
              "  </div>\n"
            ],
            "application/vnd.google.colaboratory.intrinsic+json": {
              "type": "dataframe",
              "summary": "{\n  \"name\": \"X\",\n  \"rows\": 8,\n  \"fields\": [\n    {\n      \"column\": \"HP\",\n      \"properties\": {\n        \"dtype\": \"number\",\n        \"std\": 90.1254691931115,\n        \"min\": -2.165302435805112,\n        \"max\": 255.0,\n        \"num_unique_values\": 8,\n        \"samples\": [\n          -1.3932210505100003e-17,\n          0.017289552218856526,\n          255.0\n        ],\n        \"semantic_type\": \"\",\n        \"description\": \"\"\n      }\n    },\n    {\n      \"column\": \"speed\",\n      \"properties\": {\n        \"dtype\": \"number\",\n        \"std\": 90.10580637146671,\n        \"min\": -2.175643884474995,\n        \"max\": 255.0,\n        \"num_unique_values\": 8,\n        \"samples\": [\n          -3.343730521224001e-16,\n          0.03145156733313961,\n          255.0\n        ],\n        \"semantic_type\": \"\",\n        \"description\": \"\"\n      }\n    },\n    {\n      \"column\": \"cruise\",\n      \"properties\": {\n        \"dtype\": \"number\",\n        \"std\": 90.10148557208477,\n        \"min\": -2.1323029441136017,\n        \"max\": 255.0,\n        \"num_unique_values\": 8,\n        \"samples\": [\n          8.359326303060002e-17,\n          0.09702920367046948,\n          255.0\n        ],\n        \"semantic_type\": \"\",\n        \"description\": \"\"\n      }\n    },\n    {\n      \"column\": \"stall\",\n      \"properties\": {\n        \"dtype\": \"number\",\n        \"std\": 90.12813589445533,\n        \"min\": -2.604771179131906,\n        \"max\": 255.0,\n        \"num_unique_values\": 8,\n        \"samples\": [\n          -4.179663151530001e-16,\n          -0.0302880369666505,\n          255.0\n        ],\n        \"semantic_type\": \"\",\n        \"description\": \"\"\n      }\n    },\n    {\n      \"column\": \"fuel\",\n      \"properties\": {\n        \"dtype\": \"number\",\n        \"std\": 90.10929060308949,\n        \"min\": -1.932329009463591,\n        \"max\": 255.0,\n        \"num_unique_values\": 8,\n        \"samples\": [\n          -1.5325431555610004e-16,\n          -0.18887426408290747,\n          255.0\n        ],\n        \"semantic_type\": \"\",\n        \"description\": \"\"\n      }\n    },\n    {\n      \"column\": \"all eng rate\",\n      \"properties\": {\n        \"dtype\": \"number\",\n        \"std\": 90.0814252902432,\n        \"min\": -2.4430060029516194,\n        \"max\": 255.0,\n        \"num_unique_values\": 8,\n        \"samples\": [\n          1.1145768404080003e-16,\n          0.06470545619410922,\n          255.0\n        ],\n        \"semantic_type\": \"\",\n        \"description\": \"\"\n      }\n    },\n    {\n      \"column\": \"eng out rate\",\n      \"properties\": {\n        \"dtype\": \"number\",\n        \"std\": 90.13369420893672,\n        \"min\": -2.625999039467188,\n        \"max\": 255.0,\n        \"num_unique_values\": 8,\n        \"samples\": [\n          2.0550010495022506e-16,\n          -0.021175290261154632,\n          255.0\n        ],\n        \"semantic_type\": \"\",\n        \"description\": \"\"\n      }\n    },\n    {\n      \"column\": \"takeoff\",\n      \"properties\": {\n        \"dtype\": \"number\",\n        \"std\": 90.13048763168744,\n        \"min\": -2.9082719802981822,\n        \"max\": 255.0,\n        \"num_unique_values\": 8,\n        \"samples\": [\n          3.030255784859251e-16,\n          0.11009891683902621,\n          255.0\n        ],\n        \"semantic_type\": \"\",\n        \"description\": \"\"\n      }\n    },\n    {\n      \"column\": \"landing\",\n      \"properties\": {\n        \"dtype\": \"number\",\n        \"std\": 90.1133042619697,\n        \"min\": -2.3188038756999343,\n        \"max\": 255.0,\n        \"num_unique_values\": 8,\n        \"samples\": [\n          1.6718652606120004e-16,\n          -0.03299653115959869,\n          255.0\n        ],\n        \"semantic_type\": \"\",\n        \"description\": \"\"\n      }\n    },\n    {\n      \"column\": \"weight\",\n      \"properties\": {\n        \"dtype\": \"number\",\n        \"std\": 90.09938052103404,\n        \"min\": -2.212285989994931,\n        \"max\": 255.0,\n        \"num_unique_values\": 8,\n        \"samples\": [\n          2.7864421010200007e-17,\n          0.019103305206084407,\n          255.0\n        ],\n        \"semantic_type\": \"\",\n        \"description\": \"\"\n      }\n    },\n    {\n      \"column\": \"length\",\n      \"properties\": {\n        \"dtype\": \"number\",\n        \"std\": 90.13451177781842,\n        \"min\": -3.0204917481950493,\n        \"max\": 255.0,\n        \"num_unique_values\": 8,\n        \"samples\": [\n          -1.9505094707140005e-16,\n          0.04964851856494824,\n          255.0\n        ],\n        \"semantic_type\": \"\",\n        \"description\": \"\"\n      }\n    },\n    {\n      \"column\": \"wingspan\",\n      \"properties\": {\n        \"dtype\": \"number\",\n        \"std\": 90.34454599853828,\n        \"min\": -6.404115954666511,\n        \"max\": 255.0,\n        \"num_unique_values\": 8,\n        \"samples\": [\n          5.5380536757772515e-16,\n          0.2753706595179751,\n          255.0\n        ],\n        \"semantic_type\": \"\",\n        \"description\": \"\"\n      }\n    },\n    {\n      \"column\": \"range\",\n      \"properties\": {\n        \"dtype\": \"number\",\n        \"std\": 90.09561664247731,\n        \"min\": -2.2965290857162834,\n        \"max\": 255.0,\n        \"num_unique_values\": 8,\n        \"samples\": [\n          2.0201705232395005e-16,\n          -0.019996971616858376,\n          255.0\n        ],\n        \"semantic_type\": \"\",\n        \"description\": \"\"\n      }\n    }\n  ]\n}"
            }
          },
          "metadata": {},
          "execution_count": 213
        }
      ]
    },
    {
      "cell_type": "code",
      "source": [
        "y.head()"
      ],
      "metadata": {
        "colab": {
          "base_uri": "https://localhost:8080/",
          "height": 241
        },
        "id": "LdMOE1Z1ocMh",
        "outputId": "c643d649-aee3-431e-b6c9-da6fd62592d3"
      },
      "execution_count": 214,
      "outputs": [
        {
          "output_type": "execute_result",
          "data": {
            "text/plain": [
              "0     1300000.0\n",
              "1     1230000.0\n",
              "4     1250000.0\n",
              "5     1100000.0\n",
              "17    1150000.0\n",
              "Name: price, dtype: float64"
            ],
            "text/html": [
              "<div>\n",
              "<style scoped>\n",
              "    .dataframe tbody tr th:only-of-type {\n",
              "        vertical-align: middle;\n",
              "    }\n",
              "\n",
              "    .dataframe tbody tr th {\n",
              "        vertical-align: top;\n",
              "    }\n",
              "\n",
              "    .dataframe thead th {\n",
              "        text-align: right;\n",
              "    }\n",
              "</style>\n",
              "<table border=\"1\" class=\"dataframe\">\n",
              "  <thead>\n",
              "    <tr style=\"text-align: right;\">\n",
              "      <th></th>\n",
              "      <th>price</th>\n",
              "    </tr>\n",
              "  </thead>\n",
              "  <tbody>\n",
              "    <tr>\n",
              "      <th>0</th>\n",
              "      <td>1300000.0</td>\n",
              "    </tr>\n",
              "    <tr>\n",
              "      <th>1</th>\n",
              "      <td>1230000.0</td>\n",
              "    </tr>\n",
              "    <tr>\n",
              "      <th>4</th>\n",
              "      <td>1250000.0</td>\n",
              "    </tr>\n",
              "    <tr>\n",
              "      <th>5</th>\n",
              "      <td>1100000.0</td>\n",
              "    </tr>\n",
              "    <tr>\n",
              "      <th>17</th>\n",
              "      <td>1150000.0</td>\n",
              "    </tr>\n",
              "  </tbody>\n",
              "</table>\n",
              "</div><br><label><b>dtype:</b> float64</label>"
            ]
          },
          "metadata": {},
          "execution_count": 214
        }
      ]
    },
    {
      "cell_type": "code",
      "source": [
        "df['price'].value_counts()"
      ],
      "metadata": {
        "colab": {
          "base_uri": "https://localhost:8080/",
          "height": 489
        },
        "id": "Ablf9dVVovOl",
        "outputId": "2bb4d506-1b9e-4a7b-821c-05e1314cffe9"
      },
      "execution_count": 215,
      "outputs": [
        {
          "output_type": "execute_result",
          "data": {
            "text/plain": [
              "price\n",
              "2000000.0    12\n",
              "1600000.0    12\n",
              "1400000.0     7\n",
              "1810000.0     6\n",
              "1830000.0     6\n",
              "             ..\n",
              "3100000.0     1\n",
              "2930000.0     1\n",
              "2250000.0     1\n",
              "1820000.0     1\n",
              "1940000.0     1\n",
              "Name: count, Length: 114, dtype: int64"
            ],
            "text/html": [
              "<div>\n",
              "<style scoped>\n",
              "    .dataframe tbody tr th:only-of-type {\n",
              "        vertical-align: middle;\n",
              "    }\n",
              "\n",
              "    .dataframe tbody tr th {\n",
              "        vertical-align: top;\n",
              "    }\n",
              "\n",
              "    .dataframe thead th {\n",
              "        text-align: right;\n",
              "    }\n",
              "</style>\n",
              "<table border=\"1\" class=\"dataframe\">\n",
              "  <thead>\n",
              "    <tr style=\"text-align: right;\">\n",
              "      <th></th>\n",
              "      <th>count</th>\n",
              "    </tr>\n",
              "    <tr>\n",
              "      <th>price</th>\n",
              "      <th></th>\n",
              "    </tr>\n",
              "  </thead>\n",
              "  <tbody>\n",
              "    <tr>\n",
              "      <th>2000000.0</th>\n",
              "      <td>12</td>\n",
              "    </tr>\n",
              "    <tr>\n",
              "      <th>1600000.0</th>\n",
              "      <td>12</td>\n",
              "    </tr>\n",
              "    <tr>\n",
              "      <th>1400000.0</th>\n",
              "      <td>7</td>\n",
              "    </tr>\n",
              "    <tr>\n",
              "      <th>1810000.0</th>\n",
              "      <td>6</td>\n",
              "    </tr>\n",
              "    <tr>\n",
              "      <th>1830000.0</th>\n",
              "      <td>6</td>\n",
              "    </tr>\n",
              "    <tr>\n",
              "      <th>...</th>\n",
              "      <td>...</td>\n",
              "    </tr>\n",
              "    <tr>\n",
              "      <th>3100000.0</th>\n",
              "      <td>1</td>\n",
              "    </tr>\n",
              "    <tr>\n",
              "      <th>2930000.0</th>\n",
              "      <td>1</td>\n",
              "    </tr>\n",
              "    <tr>\n",
              "      <th>2250000.0</th>\n",
              "      <td>1</td>\n",
              "    </tr>\n",
              "    <tr>\n",
              "      <th>1820000.0</th>\n",
              "      <td>1</td>\n",
              "    </tr>\n",
              "    <tr>\n",
              "      <th>1940000.0</th>\n",
              "      <td>1</td>\n",
              "    </tr>\n",
              "  </tbody>\n",
              "</table>\n",
              "<p>114 rows × 1 columns</p>\n",
              "</div><br><label><b>dtype:</b> int64</label>"
            ]
          },
          "metadata": {},
          "execution_count": 215
        }
      ]
    },
    {
      "cell_type": "code",
      "source": [
        "X_train, X_test, y_train, y_test = train_test_split(X, y, test_size=0.2, random_state=42)"
      ],
      "metadata": {
        "id": "ne5WUnoFmTaH"
      },
      "execution_count": 216,
      "outputs": []
    },
    {
      "cell_type": "code",
      "source": [
        "# Linear Regression\n",
        "linear_model = LinearRegression()\n",
        "linear_model.fit(X_train, y_train)\n",
        "\n",
        "# Prediksi dan evaluasi\n",
        "y_pred_linear = linear_model.predict(X_test)\n",
        "mse_linear = mean_squared_error(y_test, y_pred_linear)\n",
        "r2_linear = r2_score(y_test, y_pred_linear)\n",
        "\n",
        "print(\"Linear Regression: \")\n",
        "print(f\"Mean Squared Error: {mse_linear:.4f}\")\n",
        "print(f\"R2 Score: {r2_linear:.4f}\")"
      ],
      "metadata": {
        "colab": {
          "base_uri": "https://localhost:8080/"
        },
        "id": "GrILAiEYmaSZ",
        "outputId": "29294f2f-b70d-4063-d850-205a36b98340"
      },
      "execution_count": 223,
      "outputs": [
        {
          "output_type": "stream",
          "name": "stdout",
          "text": [
            "Linear Regression: \n",
            "Mean Squared Error: 49289346806.1669\n",
            "R2 Score: 0.6887\n"
          ]
        }
      ]
    },
    {
      "cell_type": "code",
      "source": [
        "# Decision Tree Regressor\n",
        "tree_model = DecisionTreeRegressor(max_depth=5, random_state=42)\n",
        "tree_model.fit(X_train, y_train)\n",
        "\n",
        "# Prediksi dan evaluasi\n",
        "y_pred_tree = tree_model.predict(X_test)\n",
        "mse_tree = mean_squared_error(y_test, y_pred_tree)\n",
        "r2_tree = r2_score(y_test, y_pred_tree)\n",
        "\n",
        "print(\"Decision Tree Regression:\")\n",
        "print(f\"Mean Squared Error: {mse_tree:.4f}\")\n",
        "print(f\"R2 Score: {r2_tree:.4f}\")\n"
      ],
      "metadata": {
        "colab": {
          "base_uri": "https://localhost:8080/"
        },
        "id": "M-UPI-mMnCfT",
        "outputId": "fd48ae87-6b6c-4030-fe88-120d98436c5e"
      },
      "execution_count": 224,
      "outputs": [
        {
          "output_type": "stream",
          "name": "stdout",
          "text": [
            "Decision Tree Regression:\n",
            "Mean Squared Error: 71087140175.4375\n",
            "R2 Score: 0.5510\n"
          ]
        }
      ]
    },
    {
      "cell_type": "code",
      "source": [
        "# Random Forest Regressor\n",
        "forest_model = RandomForestRegressor(n_estimators=100, random_state=42)\n",
        "forest_model.fit(X_train, y_train)\n",
        "\n",
        "# Prediksi dan evaluasi\n",
        "y_pred_forest = forest_model.predict(X_test)\n",
        "mse_forest = mean_squared_error(y_test, y_pred_forest)\n",
        "r2_forest = r2_score(y_test, y_pred_forest)\n",
        "\n",
        "print(\"Random Forest Regression:\")\n",
        "print(f\"Mean Squared Error: {mse_forest:.4f}\")\n",
        "print(f\"R2 Score: {r2_forest:.4f}\")\n"
      ],
      "metadata": {
        "colab": {
          "base_uri": "https://localhost:8080/"
        },
        "id": "ubMAjGGsnJ9J",
        "outputId": "16577fc3-b31c-4482-c976-af7813f550f6"
      },
      "execution_count": 225,
      "outputs": [
        {
          "output_type": "stream",
          "name": "stdout",
          "text": [
            "Random Forest Regression:\n",
            "Mean Squared Error: 29072625993.8627\n",
            "R2 Score: 0.8164\n"
          ]
        }
      ]
    },
    {
      "cell_type": "code",
      "source": [
        "# Ridge Regression\n",
        "ridge_model = Ridge(alpha=1.0)\n",
        "ridge_model.fit(X_train, y_train)\n",
        "\n",
        "# Prediksi dan evaluasi\n",
        "y_pred_ridge = ridge_model.predict(X_test)\n",
        "mse_ridge = mean_squared_error(y_test, y_pred_ridge)\n",
        "r2_ridge = r2_score(y_test, y_pred_ridge)\n",
        "\n",
        "print(\"Ridge Regression:\")\n",
        "print(f\"Mean Squared Error: {mse_ridge:.4f}\")\n",
        "print(f\"R2 Score: {r2_ridge:.4f}\")\n"
      ],
      "metadata": {
        "colab": {
          "base_uri": "https://localhost:8080/"
        },
        "id": "aWD5PxNbnK-k",
        "outputId": "b4bde1e7-c1ae-415b-c42b-33c56dc47f27"
      },
      "execution_count": 226,
      "outputs": [
        {
          "output_type": "stream",
          "name": "stdout",
          "text": [
            "Ridge Regression:\n",
            "Mean Squared Error: 48984127078.8794\n",
            "R2 Score: 0.6906\n"
          ]
        }
      ]
    },
    {
      "cell_type": "code",
      "source": [
        "# Lasso Regression\n",
        "lasso_model = Lasso(alpha=0.1)\n",
        "lasso_model.fit(X_train, y_train)\n",
        "\n",
        "# Prediksi dan evaluasi\n",
        "y_pred_lasso = lasso_model.predict(X_test)\n",
        "mse_lasso = mean_squared_error(y_test, y_pred_lasso)\n",
        "r2_lasso = r2_score(y_test, y_pred_lasso)\n",
        "\n",
        "print(\"Lasso Regression:\")\n",
        "print(f\"Mean Squared Error: {mse_lasso:.4f}\")\n",
        "print(f\"R2 Score: {r2_lasso:.4f}\")\n"
      ],
      "metadata": {
        "colab": {
          "base_uri": "https://localhost:8080/"
        },
        "id": "iYRGS4MZnKqa",
        "outputId": "4aabc62e-9736-43e1-c8ee-ff9ceddb272f"
      },
      "execution_count": 227,
      "outputs": [
        {
          "output_type": "stream",
          "name": "stdout",
          "text": [
            "Lasso Regression:\n",
            "Mean Squared Error: 49289283058.0889\n",
            "R2 Score: 0.6887\n"
          ]
        }
      ]
    },
    {
      "cell_type": "code",
      "source": [
        "# Gradient Boosting Regressor\n",
        "gb_model = GradientBoostingRegressor(n_estimators=100, learning_rate=0.1, random_state=42)\n",
        "gb_model.fit(X_train, y_train)\n",
        "\n",
        "# Prediksi dan evaluasi\n",
        "y_pred_gb = gb_model.predict(X_test)\n",
        "mse_gb = mean_squared_error(y_test, y_pred_gb)\n",
        "r2_gb = r2_score(y_test, y_pred_gb)\n",
        "\n",
        "print(\"Gradient Boosting Regression:\")\n",
        "print(f\"Mean Squared Error: {mse_gb:.4f}\")\n",
        "print(f\"R2 Score: {r2_gb:.4f}\")\n"
      ],
      "metadata": {
        "colab": {
          "base_uri": "https://localhost:8080/"
        },
        "id": "oI5Rdd7TnKWN",
        "outputId": "d2c07981-943b-4885-8762-615e249c62b4"
      },
      "execution_count": 228,
      "outputs": [
        {
          "output_type": "stream",
          "name": "stdout",
          "text": [
            "Gradient Boosting Regression:\n",
            "Mean Squared Error: 25299335427.3890\n",
            "R2 Score: 0.8402\n"
          ]
        }
      ]
    },
    {
      "cell_type": "code",
      "source": [
        "# Membandingkan hasil evaluasi\n",
        "models = ['Linear Regression', 'Decision Tree', 'Random Forest', 'Ridge', 'Lasso', 'Gradient Boosting']\n",
        "mses = [mse_linear, mse_tree, mse_forest, mse_ridge, mse_lasso, mse_gb]\n",
        "r2s = [r2_linear, r2_tree, r2_forest, r2_ridge, r2_lasso, r2_gb]\n",
        "\n",
        "comparison_df = pd.DataFrame({'Model': models, 'MSE': mses, 'R2 Score': r2s})\n",
        "print(comparison_df)\n"
      ],
      "metadata": {
        "colab": {
          "base_uri": "https://localhost:8080/"
        },
        "id": "gnNvtLnhqndy",
        "outputId": "3f95a96c-57ce-4ea3-ee50-a8d447690965"
      },
      "execution_count": 234,
      "outputs": [
        {
          "output_type": "stream",
          "name": "stdout",
          "text": [
            "               Model           MSE  R2 Score\n",
            "0  Linear Regression  4.928935e+10  0.688694\n",
            "1      Decision Tree  7.108714e+10  0.551021\n",
            "2      Random Forest  2.907263e+10  0.816380\n",
            "3              Ridge  4.898413e+10  0.690622\n",
            "4              Lasso  4.928928e+10  0.688694\n",
            "5  Gradient Boosting  2.529934e+10  0.840212\n"
          ]
        }
      ]
    }
  ]
}